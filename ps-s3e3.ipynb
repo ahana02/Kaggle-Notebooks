{
 "cells": [
  {
   "cell_type": "markdown",
   "id": "1cc8c849",
   "metadata": {
    "papermill": {
     "duration": 0.008101,
     "end_time": "2023-01-22T11:10:15.647066",
     "exception": false,
     "start_time": "2023-01-22T11:10:15.638965",
     "status": "completed"
    },
    "tags": []
   },
   "source": [
    "# Importing Libraries"
   ]
  },
  {
   "cell_type": "code",
   "execution_count": 1,
   "id": "bcbb0c68",
   "metadata": {
    "execution": {
     "iopub.execute_input": "2023-01-22T11:10:15.663770Z",
     "iopub.status.busy": "2023-01-22T11:10:15.663062Z",
     "iopub.status.idle": "2023-01-22T11:10:18.677521Z",
     "shell.execute_reply": "2023-01-22T11:10:18.676261Z"
    },
    "papermill": {
     "duration": 3.026452,
     "end_time": "2023-01-22T11:10:18.680579",
     "exception": false,
     "start_time": "2023-01-22T11:10:15.654127",
     "status": "completed"
    },
    "tags": []
   },
   "outputs": [],
   "source": [
    "import numpy as np\n",
    "import pandas as pd\n",
    "import seaborn as sns\n",
    "import matplotlib.pyplot as plt\n",
    "import warnings\n",
    "warnings.filterwarnings(action='ignore')\n",
    "import plotly.express as px\n",
    "from sklearn.preprocessing import LabelEncoder\n",
    "from xgboost import XGBClassifier\n",
    "from catboost import CatBoostClassifier\n",
    "from sklearn.metrics import roc_auc_score\n",
    "from sklearn.model_selection import StratifiedKFold"
   ]
  },
  {
   "cell_type": "markdown",
   "id": "da5d0334",
   "metadata": {
    "papermill": {
     "duration": 0.006544,
     "end_time": "2023-01-22T11:10:18.693936",
     "exception": false,
     "start_time": "2023-01-22T11:10:18.687392",
     "status": "completed"
    },
    "tags": []
   },
   "source": [
    "# Loading Datasets"
   ]
  },
  {
   "cell_type": "code",
   "execution_count": 2,
   "id": "9094311f",
   "metadata": {
    "execution": {
     "iopub.execute_input": "2023-01-22T11:10:18.709683Z",
     "iopub.status.busy": "2023-01-22T11:10:18.708984Z",
     "iopub.status.idle": "2023-01-22T11:10:18.781253Z",
     "shell.execute_reply": "2023-01-22T11:10:18.780075Z"
    },
    "papermill": {
     "duration": 0.083599,
     "end_time": "2023-01-22T11:10:18.784186",
     "exception": false,
     "start_time": "2023-01-22T11:10:18.700587",
     "status": "completed"
    },
    "tags": []
   },
   "outputs": [],
   "source": [
    "train = pd.read_csv(\"/kaggle/input/playground-series-s3e3/train.csv\")\n",
    "test = pd.read_csv(\"/kaggle/input/playground-series-s3e3/test.csv\")\n",
    "original=pd.read_csv(\"/kaggle/input/ibm-hr-analytics-attrition-dataset/WA_Fn-UseC_-HR-Employee-Attrition.csv\")\n",
    "sub =pd.read_csv(\"/kaggle/input/playground-series-s3e3/sample_submission.csv\")"
   ]
  },
  {
   "cell_type": "code",
   "execution_count": 3,
   "id": "86ef4d62",
   "metadata": {
    "execution": {
     "iopub.execute_input": "2023-01-22T11:10:18.799752Z",
     "iopub.status.busy": "2023-01-22T11:10:18.799263Z",
     "iopub.status.idle": "2023-01-22T11:10:18.834845Z",
     "shell.execute_reply": "2023-01-22T11:10:18.833599Z"
    },
    "papermill": {
     "duration": 0.047518,
     "end_time": "2023-01-22T11:10:18.838505",
     "exception": false,
     "start_time": "2023-01-22T11:10:18.790987",
     "status": "completed"
    },
    "tags": []
   },
   "outputs": [
    {
     "data": {
      "text/html": [
       "<div>\n",
       "<style scoped>\n",
       "    .dataframe tbody tr th:only-of-type {\n",
       "        vertical-align: middle;\n",
       "    }\n",
       "\n",
       "    .dataframe tbody tr th {\n",
       "        vertical-align: top;\n",
       "    }\n",
       "\n",
       "    .dataframe thead th {\n",
       "        text-align: right;\n",
       "    }\n",
       "</style>\n",
       "<table border=\"1\" class=\"dataframe\">\n",
       "  <thead>\n",
       "    <tr style=\"text-align: right;\">\n",
       "      <th></th>\n",
       "      <th>id</th>\n",
       "      <th>Age</th>\n",
       "      <th>BusinessTravel</th>\n",
       "      <th>DailyRate</th>\n",
       "      <th>Department</th>\n",
       "      <th>DistanceFromHome</th>\n",
       "      <th>Education</th>\n",
       "      <th>EducationField</th>\n",
       "      <th>EmployeeCount</th>\n",
       "      <th>EnvironmentSatisfaction</th>\n",
       "      <th>...</th>\n",
       "      <th>StandardHours</th>\n",
       "      <th>StockOptionLevel</th>\n",
       "      <th>TotalWorkingYears</th>\n",
       "      <th>TrainingTimesLastYear</th>\n",
       "      <th>WorkLifeBalance</th>\n",
       "      <th>YearsAtCompany</th>\n",
       "      <th>YearsInCurrentRole</th>\n",
       "      <th>YearsSinceLastPromotion</th>\n",
       "      <th>YearsWithCurrManager</th>\n",
       "      <th>Attrition</th>\n",
       "    </tr>\n",
       "  </thead>\n",
       "  <tbody>\n",
       "    <tr>\n",
       "      <th>0</th>\n",
       "      <td>0</td>\n",
       "      <td>36</td>\n",
       "      <td>Travel_Frequently</td>\n",
       "      <td>599</td>\n",
       "      <td>Research &amp; Development</td>\n",
       "      <td>24</td>\n",
       "      <td>3</td>\n",
       "      <td>Medical</td>\n",
       "      <td>1</td>\n",
       "      <td>4</td>\n",
       "      <td>...</td>\n",
       "      <td>80</td>\n",
       "      <td>1</td>\n",
       "      <td>10</td>\n",
       "      <td>2</td>\n",
       "      <td>3</td>\n",
       "      <td>10</td>\n",
       "      <td>0</td>\n",
       "      <td>7</td>\n",
       "      <td>8</td>\n",
       "      <td>0</td>\n",
       "    </tr>\n",
       "    <tr>\n",
       "      <th>1</th>\n",
       "      <td>1</td>\n",
       "      <td>35</td>\n",
       "      <td>Travel_Rarely</td>\n",
       "      <td>921</td>\n",
       "      <td>Sales</td>\n",
       "      <td>8</td>\n",
       "      <td>3</td>\n",
       "      <td>Other</td>\n",
       "      <td>1</td>\n",
       "      <td>1</td>\n",
       "      <td>...</td>\n",
       "      <td>80</td>\n",
       "      <td>1</td>\n",
       "      <td>4</td>\n",
       "      <td>3</td>\n",
       "      <td>3</td>\n",
       "      <td>4</td>\n",
       "      <td>2</td>\n",
       "      <td>0</td>\n",
       "      <td>3</td>\n",
       "      <td>0</td>\n",
       "    </tr>\n",
       "    <tr>\n",
       "      <th>2</th>\n",
       "      <td>2</td>\n",
       "      <td>32</td>\n",
       "      <td>Travel_Rarely</td>\n",
       "      <td>718</td>\n",
       "      <td>Sales</td>\n",
       "      <td>26</td>\n",
       "      <td>3</td>\n",
       "      <td>Marketing</td>\n",
       "      <td>1</td>\n",
       "      <td>3</td>\n",
       "      <td>...</td>\n",
       "      <td>80</td>\n",
       "      <td>2</td>\n",
       "      <td>4</td>\n",
       "      <td>3</td>\n",
       "      <td>3</td>\n",
       "      <td>3</td>\n",
       "      <td>2</td>\n",
       "      <td>1</td>\n",
       "      <td>2</td>\n",
       "      <td>0</td>\n",
       "    </tr>\n",
       "    <tr>\n",
       "      <th>3</th>\n",
       "      <td>3</td>\n",
       "      <td>38</td>\n",
       "      <td>Travel_Rarely</td>\n",
       "      <td>1488</td>\n",
       "      <td>Research &amp; Development</td>\n",
       "      <td>2</td>\n",
       "      <td>3</td>\n",
       "      <td>Medical</td>\n",
       "      <td>1</td>\n",
       "      <td>3</td>\n",
       "      <td>...</td>\n",
       "      <td>80</td>\n",
       "      <td>0</td>\n",
       "      <td>15</td>\n",
       "      <td>1</td>\n",
       "      <td>1</td>\n",
       "      <td>6</td>\n",
       "      <td>0</td>\n",
       "      <td>0</td>\n",
       "      <td>2</td>\n",
       "      <td>0</td>\n",
       "    </tr>\n",
       "    <tr>\n",
       "      <th>4</th>\n",
       "      <td>4</td>\n",
       "      <td>50</td>\n",
       "      <td>Travel_Rarely</td>\n",
       "      <td>1017</td>\n",
       "      <td>Research &amp; Development</td>\n",
       "      <td>5</td>\n",
       "      <td>4</td>\n",
       "      <td>Medical</td>\n",
       "      <td>1</td>\n",
       "      <td>2</td>\n",
       "      <td>...</td>\n",
       "      <td>80</td>\n",
       "      <td>0</td>\n",
       "      <td>31</td>\n",
       "      <td>0</td>\n",
       "      <td>3</td>\n",
       "      <td>31</td>\n",
       "      <td>14</td>\n",
       "      <td>4</td>\n",
       "      <td>10</td>\n",
       "      <td>1</td>\n",
       "    </tr>\n",
       "  </tbody>\n",
       "</table>\n",
       "<p>5 rows × 35 columns</p>\n",
       "</div>"
      ],
      "text/plain": [
       "   id  Age     BusinessTravel  DailyRate              Department  \\\n",
       "0   0   36  Travel_Frequently        599  Research & Development   \n",
       "1   1   35      Travel_Rarely        921                   Sales   \n",
       "2   2   32      Travel_Rarely        718                   Sales   \n",
       "3   3   38      Travel_Rarely       1488  Research & Development   \n",
       "4   4   50      Travel_Rarely       1017  Research & Development   \n",
       "\n",
       "   DistanceFromHome  Education EducationField  EmployeeCount  \\\n",
       "0                24          3        Medical              1   \n",
       "1                 8          3          Other              1   \n",
       "2                26          3      Marketing              1   \n",
       "3                 2          3        Medical              1   \n",
       "4                 5          4        Medical              1   \n",
       "\n",
       "   EnvironmentSatisfaction  ... StandardHours  StockOptionLevel  \\\n",
       "0                        4  ...            80                 1   \n",
       "1                        1  ...            80                 1   \n",
       "2                        3  ...            80                 2   \n",
       "3                        3  ...            80                 0   \n",
       "4                        2  ...            80                 0   \n",
       "\n",
       "   TotalWorkingYears  TrainingTimesLastYear WorkLifeBalance  YearsAtCompany  \\\n",
       "0                 10                      2               3              10   \n",
       "1                  4                      3               3               4   \n",
       "2                  4                      3               3               3   \n",
       "3                 15                      1               1               6   \n",
       "4                 31                      0               3              31   \n",
       "\n",
       "  YearsInCurrentRole  YearsSinceLastPromotion  YearsWithCurrManager  Attrition  \n",
       "0                  0                        7                     8          0  \n",
       "1                  2                        0                     3          0  \n",
       "2                  2                        1                     2          0  \n",
       "3                  0                        0                     2          0  \n",
       "4                 14                        4                    10          1  \n",
       "\n",
       "[5 rows x 35 columns]"
      ]
     },
     "execution_count": 3,
     "metadata": {},
     "output_type": "execute_result"
    }
   ],
   "source": [
    "train.head()"
   ]
  },
  {
   "cell_type": "code",
   "execution_count": 4,
   "id": "2d654cb3",
   "metadata": {
    "execution": {
     "iopub.execute_input": "2023-01-22T11:10:18.855463Z",
     "iopub.status.busy": "2023-01-22T11:10:18.854553Z",
     "iopub.status.idle": "2023-01-22T11:10:18.879427Z",
     "shell.execute_reply": "2023-01-22T11:10:18.877753Z"
    },
    "papermill": {
     "duration": 0.036378,
     "end_time": "2023-01-22T11:10:18.882284",
     "exception": false,
     "start_time": "2023-01-22T11:10:18.845906",
     "status": "completed"
    },
    "tags": []
   },
   "outputs": [
    {
     "data": {
      "text/html": [
       "<div>\n",
       "<style scoped>\n",
       "    .dataframe tbody tr th:only-of-type {\n",
       "        vertical-align: middle;\n",
       "    }\n",
       "\n",
       "    .dataframe tbody tr th {\n",
       "        vertical-align: top;\n",
       "    }\n",
       "\n",
       "    .dataframe thead th {\n",
       "        text-align: right;\n",
       "    }\n",
       "</style>\n",
       "<table border=\"1\" class=\"dataframe\">\n",
       "  <thead>\n",
       "    <tr style=\"text-align: right;\">\n",
       "      <th></th>\n",
       "      <th>id</th>\n",
       "      <th>Age</th>\n",
       "      <th>BusinessTravel</th>\n",
       "      <th>DailyRate</th>\n",
       "      <th>Department</th>\n",
       "      <th>DistanceFromHome</th>\n",
       "      <th>Education</th>\n",
       "      <th>EducationField</th>\n",
       "      <th>EmployeeCount</th>\n",
       "      <th>EnvironmentSatisfaction</th>\n",
       "      <th>...</th>\n",
       "      <th>RelationshipSatisfaction</th>\n",
       "      <th>StandardHours</th>\n",
       "      <th>StockOptionLevel</th>\n",
       "      <th>TotalWorkingYears</th>\n",
       "      <th>TrainingTimesLastYear</th>\n",
       "      <th>WorkLifeBalance</th>\n",
       "      <th>YearsAtCompany</th>\n",
       "      <th>YearsInCurrentRole</th>\n",
       "      <th>YearsSinceLastPromotion</th>\n",
       "      <th>YearsWithCurrManager</th>\n",
       "    </tr>\n",
       "  </thead>\n",
       "  <tbody>\n",
       "    <tr>\n",
       "      <th>0</th>\n",
       "      <td>1677</td>\n",
       "      <td>19</td>\n",
       "      <td>Non-Travel</td>\n",
       "      <td>992</td>\n",
       "      <td>Research &amp; Development</td>\n",
       "      <td>1</td>\n",
       "      <td>1</td>\n",
       "      <td>Medical</td>\n",
       "      <td>1</td>\n",
       "      <td>4</td>\n",
       "      <td>...</td>\n",
       "      <td>4</td>\n",
       "      <td>80</td>\n",
       "      <td>0</td>\n",
       "      <td>1</td>\n",
       "      <td>2</td>\n",
       "      <td>2</td>\n",
       "      <td>1</td>\n",
       "      <td>0</td>\n",
       "      <td>0</td>\n",
       "      <td>0</td>\n",
       "    </tr>\n",
       "    <tr>\n",
       "      <th>1</th>\n",
       "      <td>1678</td>\n",
       "      <td>45</td>\n",
       "      <td>Travel_Rarely</td>\n",
       "      <td>1136</td>\n",
       "      <td>Sales</td>\n",
       "      <td>4</td>\n",
       "      <td>4</td>\n",
       "      <td>Marketing</td>\n",
       "      <td>1</td>\n",
       "      <td>3</td>\n",
       "      <td>...</td>\n",
       "      <td>3</td>\n",
       "      <td>80</td>\n",
       "      <td>1</td>\n",
       "      <td>7</td>\n",
       "      <td>3</td>\n",
       "      <td>3</td>\n",
       "      <td>2</td>\n",
       "      <td>2</td>\n",
       "      <td>2</td>\n",
       "      <td>2</td>\n",
       "    </tr>\n",
       "    <tr>\n",
       "      <th>2</th>\n",
       "      <td>1679</td>\n",
       "      <td>37</td>\n",
       "      <td>Travel_Rarely</td>\n",
       "      <td>155</td>\n",
       "      <td>Research &amp; Development</td>\n",
       "      <td>13</td>\n",
       "      <td>3</td>\n",
       "      <td>Life Sciences</td>\n",
       "      <td>1</td>\n",
       "      <td>4</td>\n",
       "      <td>...</td>\n",
       "      <td>2</td>\n",
       "      <td>80</td>\n",
       "      <td>2</td>\n",
       "      <td>13</td>\n",
       "      <td>2</td>\n",
       "      <td>2</td>\n",
       "      <td>7</td>\n",
       "      <td>7</td>\n",
       "      <td>1</td>\n",
       "      <td>7</td>\n",
       "    </tr>\n",
       "    <tr>\n",
       "      <th>3</th>\n",
       "      <td>1680</td>\n",
       "      <td>32</td>\n",
       "      <td>Travel_Rarely</td>\n",
       "      <td>688</td>\n",
       "      <td>Research &amp; Development</td>\n",
       "      <td>1</td>\n",
       "      <td>4</td>\n",
       "      <td>Life Sciences</td>\n",
       "      <td>1</td>\n",
       "      <td>3</td>\n",
       "      <td>...</td>\n",
       "      <td>3</td>\n",
       "      <td>80</td>\n",
       "      <td>0</td>\n",
       "      <td>14</td>\n",
       "      <td>2</td>\n",
       "      <td>2</td>\n",
       "      <td>14</td>\n",
       "      <td>10</td>\n",
       "      <td>11</td>\n",
       "      <td>8</td>\n",
       "    </tr>\n",
       "    <tr>\n",
       "      <th>4</th>\n",
       "      <td>1681</td>\n",
       "      <td>29</td>\n",
       "      <td>Travel_Frequently</td>\n",
       "      <td>464</td>\n",
       "      <td>Research &amp; Development</td>\n",
       "      <td>9</td>\n",
       "      <td>1</td>\n",
       "      <td>Life Sciences</td>\n",
       "      <td>1</td>\n",
       "      <td>3</td>\n",
       "      <td>...</td>\n",
       "      <td>1</td>\n",
       "      <td>80</td>\n",
       "      <td>0</td>\n",
       "      <td>1</td>\n",
       "      <td>5</td>\n",
       "      <td>3</td>\n",
       "      <td>1</td>\n",
       "      <td>0</td>\n",
       "      <td>0</td>\n",
       "      <td>0</td>\n",
       "    </tr>\n",
       "  </tbody>\n",
       "</table>\n",
       "<p>5 rows × 34 columns</p>\n",
       "</div>"
      ],
      "text/plain": [
       "     id  Age     BusinessTravel  DailyRate              Department  \\\n",
       "0  1677   19         Non-Travel        992  Research & Development   \n",
       "1  1678   45      Travel_Rarely       1136                   Sales   \n",
       "2  1679   37      Travel_Rarely        155  Research & Development   \n",
       "3  1680   32      Travel_Rarely        688  Research & Development   \n",
       "4  1681   29  Travel_Frequently        464  Research & Development   \n",
       "\n",
       "   DistanceFromHome  Education EducationField  EmployeeCount  \\\n",
       "0                 1          1        Medical              1   \n",
       "1                 4          4      Marketing              1   \n",
       "2                13          3  Life Sciences              1   \n",
       "3                 1          4  Life Sciences              1   \n",
       "4                 9          1  Life Sciences              1   \n",
       "\n",
       "   EnvironmentSatisfaction  ... RelationshipSatisfaction  StandardHours  \\\n",
       "0                        4  ...                        4             80   \n",
       "1                        3  ...                        3             80   \n",
       "2                        4  ...                        2             80   \n",
       "3                        3  ...                        3             80   \n",
       "4                        3  ...                        1             80   \n",
       "\n",
       "   StockOptionLevel  TotalWorkingYears TrainingTimesLastYear  WorkLifeBalance  \\\n",
       "0                 0                  1                     2                2   \n",
       "1                 1                  7                     3                3   \n",
       "2                 2                 13                     2                2   \n",
       "3                 0                 14                     2                2   \n",
       "4                 0                  1                     5                3   \n",
       "\n",
       "  YearsAtCompany  YearsInCurrentRole  YearsSinceLastPromotion  \\\n",
       "0              1                   0                        0   \n",
       "1              2                   2                        2   \n",
       "2              7                   7                        1   \n",
       "3             14                  10                       11   \n",
       "4              1                   0                        0   \n",
       "\n",
       "   YearsWithCurrManager  \n",
       "0                     0  \n",
       "1                     2  \n",
       "2                     7  \n",
       "3                     8  \n",
       "4                     0  \n",
       "\n",
       "[5 rows x 34 columns]"
      ]
     },
     "execution_count": 4,
     "metadata": {},
     "output_type": "execute_result"
    }
   ],
   "source": [
    "test.head()"
   ]
  },
  {
   "cell_type": "code",
   "execution_count": 5,
   "id": "40597655",
   "metadata": {
    "execution": {
     "iopub.execute_input": "2023-01-22T11:10:18.902023Z",
     "iopub.status.busy": "2023-01-22T11:10:18.901102Z",
     "iopub.status.idle": "2023-01-22T11:10:18.924654Z",
     "shell.execute_reply": "2023-01-22T11:10:18.923202Z"
    },
    "papermill": {
     "duration": 0.035502,
     "end_time": "2023-01-22T11:10:18.927587",
     "exception": false,
     "start_time": "2023-01-22T11:10:18.892085",
     "status": "completed"
    },
    "tags": []
   },
   "outputs": [
    {
     "data": {
      "text/html": [
       "<div>\n",
       "<style scoped>\n",
       "    .dataframe tbody tr th:only-of-type {\n",
       "        vertical-align: middle;\n",
       "    }\n",
       "\n",
       "    .dataframe tbody tr th {\n",
       "        vertical-align: top;\n",
       "    }\n",
       "\n",
       "    .dataframe thead th {\n",
       "        text-align: right;\n",
       "    }\n",
       "</style>\n",
       "<table border=\"1\" class=\"dataframe\">\n",
       "  <thead>\n",
       "    <tr style=\"text-align: right;\">\n",
       "      <th></th>\n",
       "      <th>Age</th>\n",
       "      <th>Attrition</th>\n",
       "      <th>BusinessTravel</th>\n",
       "      <th>DailyRate</th>\n",
       "      <th>Department</th>\n",
       "      <th>DistanceFromHome</th>\n",
       "      <th>Education</th>\n",
       "      <th>EducationField</th>\n",
       "      <th>EmployeeCount</th>\n",
       "      <th>EmployeeNumber</th>\n",
       "      <th>...</th>\n",
       "      <th>RelationshipSatisfaction</th>\n",
       "      <th>StandardHours</th>\n",
       "      <th>StockOptionLevel</th>\n",
       "      <th>TotalWorkingYears</th>\n",
       "      <th>TrainingTimesLastYear</th>\n",
       "      <th>WorkLifeBalance</th>\n",
       "      <th>YearsAtCompany</th>\n",
       "      <th>YearsInCurrentRole</th>\n",
       "      <th>YearsSinceLastPromotion</th>\n",
       "      <th>YearsWithCurrManager</th>\n",
       "    </tr>\n",
       "  </thead>\n",
       "  <tbody>\n",
       "    <tr>\n",
       "      <th>0</th>\n",
       "      <td>41</td>\n",
       "      <td>Yes</td>\n",
       "      <td>Travel_Rarely</td>\n",
       "      <td>1102</td>\n",
       "      <td>Sales</td>\n",
       "      <td>1</td>\n",
       "      <td>2</td>\n",
       "      <td>Life Sciences</td>\n",
       "      <td>1</td>\n",
       "      <td>1</td>\n",
       "      <td>...</td>\n",
       "      <td>1</td>\n",
       "      <td>80</td>\n",
       "      <td>0</td>\n",
       "      <td>8</td>\n",
       "      <td>0</td>\n",
       "      <td>1</td>\n",
       "      <td>6</td>\n",
       "      <td>4</td>\n",
       "      <td>0</td>\n",
       "      <td>5</td>\n",
       "    </tr>\n",
       "    <tr>\n",
       "      <th>1</th>\n",
       "      <td>49</td>\n",
       "      <td>No</td>\n",
       "      <td>Travel_Frequently</td>\n",
       "      <td>279</td>\n",
       "      <td>Research &amp; Development</td>\n",
       "      <td>8</td>\n",
       "      <td>1</td>\n",
       "      <td>Life Sciences</td>\n",
       "      <td>1</td>\n",
       "      <td>2</td>\n",
       "      <td>...</td>\n",
       "      <td>4</td>\n",
       "      <td>80</td>\n",
       "      <td>1</td>\n",
       "      <td>10</td>\n",
       "      <td>3</td>\n",
       "      <td>3</td>\n",
       "      <td>10</td>\n",
       "      <td>7</td>\n",
       "      <td>1</td>\n",
       "      <td>7</td>\n",
       "    </tr>\n",
       "    <tr>\n",
       "      <th>2</th>\n",
       "      <td>37</td>\n",
       "      <td>Yes</td>\n",
       "      <td>Travel_Rarely</td>\n",
       "      <td>1373</td>\n",
       "      <td>Research &amp; Development</td>\n",
       "      <td>2</td>\n",
       "      <td>2</td>\n",
       "      <td>Other</td>\n",
       "      <td>1</td>\n",
       "      <td>4</td>\n",
       "      <td>...</td>\n",
       "      <td>2</td>\n",
       "      <td>80</td>\n",
       "      <td>0</td>\n",
       "      <td>7</td>\n",
       "      <td>3</td>\n",
       "      <td>3</td>\n",
       "      <td>0</td>\n",
       "      <td>0</td>\n",
       "      <td>0</td>\n",
       "      <td>0</td>\n",
       "    </tr>\n",
       "    <tr>\n",
       "      <th>3</th>\n",
       "      <td>33</td>\n",
       "      <td>No</td>\n",
       "      <td>Travel_Frequently</td>\n",
       "      <td>1392</td>\n",
       "      <td>Research &amp; Development</td>\n",
       "      <td>3</td>\n",
       "      <td>4</td>\n",
       "      <td>Life Sciences</td>\n",
       "      <td>1</td>\n",
       "      <td>5</td>\n",
       "      <td>...</td>\n",
       "      <td>3</td>\n",
       "      <td>80</td>\n",
       "      <td>0</td>\n",
       "      <td>8</td>\n",
       "      <td>3</td>\n",
       "      <td>3</td>\n",
       "      <td>8</td>\n",
       "      <td>7</td>\n",
       "      <td>3</td>\n",
       "      <td>0</td>\n",
       "    </tr>\n",
       "    <tr>\n",
       "      <th>4</th>\n",
       "      <td>27</td>\n",
       "      <td>No</td>\n",
       "      <td>Travel_Rarely</td>\n",
       "      <td>591</td>\n",
       "      <td>Research &amp; Development</td>\n",
       "      <td>2</td>\n",
       "      <td>1</td>\n",
       "      <td>Medical</td>\n",
       "      <td>1</td>\n",
       "      <td>7</td>\n",
       "      <td>...</td>\n",
       "      <td>4</td>\n",
       "      <td>80</td>\n",
       "      <td>1</td>\n",
       "      <td>6</td>\n",
       "      <td>3</td>\n",
       "      <td>3</td>\n",
       "      <td>2</td>\n",
       "      <td>2</td>\n",
       "      <td>2</td>\n",
       "      <td>2</td>\n",
       "    </tr>\n",
       "  </tbody>\n",
       "</table>\n",
       "<p>5 rows × 35 columns</p>\n",
       "</div>"
      ],
      "text/plain": [
       "   Age Attrition     BusinessTravel  DailyRate              Department  \\\n",
       "0   41       Yes      Travel_Rarely       1102                   Sales   \n",
       "1   49        No  Travel_Frequently        279  Research & Development   \n",
       "2   37       Yes      Travel_Rarely       1373  Research & Development   \n",
       "3   33        No  Travel_Frequently       1392  Research & Development   \n",
       "4   27        No      Travel_Rarely        591  Research & Development   \n",
       "\n",
       "   DistanceFromHome  Education EducationField  EmployeeCount  EmployeeNumber  \\\n",
       "0                 1          2  Life Sciences              1               1   \n",
       "1                 8          1  Life Sciences              1               2   \n",
       "2                 2          2          Other              1               4   \n",
       "3                 3          4  Life Sciences              1               5   \n",
       "4                 2          1        Medical              1               7   \n",
       "\n",
       "   ...  RelationshipSatisfaction StandardHours  StockOptionLevel  \\\n",
       "0  ...                         1            80                 0   \n",
       "1  ...                         4            80                 1   \n",
       "2  ...                         2            80                 0   \n",
       "3  ...                         3            80                 0   \n",
       "4  ...                         4            80                 1   \n",
       "\n",
       "   TotalWorkingYears  TrainingTimesLastYear WorkLifeBalance  YearsAtCompany  \\\n",
       "0                  8                      0               1               6   \n",
       "1                 10                      3               3              10   \n",
       "2                  7                      3               3               0   \n",
       "3                  8                      3               3               8   \n",
       "4                  6                      3               3               2   \n",
       "\n",
       "  YearsInCurrentRole  YearsSinceLastPromotion  YearsWithCurrManager  \n",
       "0                  4                        0                     5  \n",
       "1                  7                        1                     7  \n",
       "2                  0                        0                     0  \n",
       "3                  7                        3                     0  \n",
       "4                  2                        2                     2  \n",
       "\n",
       "[5 rows x 35 columns]"
      ]
     },
     "execution_count": 5,
     "metadata": {},
     "output_type": "execute_result"
    }
   ],
   "source": [
    "original.head()"
   ]
  },
  {
   "cell_type": "code",
   "execution_count": 6,
   "id": "066ee26d",
   "metadata": {
    "execution": {
     "iopub.execute_input": "2023-01-22T11:10:18.945494Z",
     "iopub.status.busy": "2023-01-22T11:10:18.945071Z",
     "iopub.status.idle": "2023-01-22T11:10:18.951657Z",
     "shell.execute_reply": "2023-01-22T11:10:18.950431Z"
    },
    "papermill": {
     "duration": 0.018391,
     "end_time": "2023-01-22T11:10:18.954038",
     "exception": false,
     "start_time": "2023-01-22T11:10:18.935647",
     "status": "completed"
    },
    "tags": []
   },
   "outputs": [
    {
     "name": "stdout",
     "output_type": "stream",
     "text": [
      "(1677, 35)\n",
      "(1119, 34)\n",
      "(1470, 35)\n"
     ]
    }
   ],
   "source": [
    "print(train.shape)\n",
    "print(test.shape)\n",
    "print(original.shape)"
   ]
  },
  {
   "cell_type": "code",
   "execution_count": 7,
   "id": "b713e21b",
   "metadata": {
    "execution": {
     "iopub.execute_input": "2023-01-22T11:10:18.971870Z",
     "iopub.status.busy": "2023-01-22T11:10:18.971374Z",
     "iopub.status.idle": "2023-01-22T11:10:18.998600Z",
     "shell.execute_reply": "2023-01-22T11:10:18.997418Z"
    },
    "papermill": {
     "duration": 0.039479,
     "end_time": "2023-01-22T11:10:19.001509",
     "exception": false,
     "start_time": "2023-01-22T11:10:18.962030",
     "status": "completed"
    },
    "tags": []
   },
   "outputs": [],
   "source": [
    "original = original.rename(columns={'EmployeeNumber': 'id'})\n",
    "original['Attrition'] = (original['Attrition'] == 'Yes').astype(int)\n",
    "\n",
    "original = original[train.columns.tolist()]\n",
    "\n",
    "original['source'] = 'original'\n",
    "train['source'] = 'synthetic'\n",
    "test['source'] = 'synthetic'\n",
    "\n",
    "train = pd.concat([train, original])\n",
    "train.reset_index(inplace=True, drop=True)"
   ]
  },
  {
   "cell_type": "code",
   "execution_count": 8,
   "id": "c7808a1f",
   "metadata": {
    "execution": {
     "iopub.execute_input": "2023-01-22T11:10:19.020355Z",
     "iopub.status.busy": "2023-01-22T11:10:19.019936Z",
     "iopub.status.idle": "2023-01-22T11:10:19.049374Z",
     "shell.execute_reply": "2023-01-22T11:10:19.047442Z"
    },
    "papermill": {
     "duration": 0.042353,
     "end_time": "2023-01-22T11:10:19.052425",
     "exception": false,
     "start_time": "2023-01-22T11:10:19.010072",
     "status": "completed"
    },
    "tags": []
   },
   "outputs": [
    {
     "name": "stdout",
     "output_type": "stream",
     "text": [
      "<class 'pandas.core.frame.DataFrame'>\n",
      "RangeIndex: 3147 entries, 0 to 3146\n",
      "Data columns (total 36 columns):\n",
      " #   Column                    Non-Null Count  Dtype \n",
      "---  ------                    --------------  ----- \n",
      " 0   id                        3147 non-null   int64 \n",
      " 1   Age                       3147 non-null   int64 \n",
      " 2   BusinessTravel            3147 non-null   object\n",
      " 3   DailyRate                 3147 non-null   int64 \n",
      " 4   Department                3147 non-null   object\n",
      " 5   DistanceFromHome          3147 non-null   int64 \n",
      " 6   Education                 3147 non-null   int64 \n",
      " 7   EducationField            3147 non-null   object\n",
      " 8   EmployeeCount             3147 non-null   int64 \n",
      " 9   EnvironmentSatisfaction   3147 non-null   int64 \n",
      " 10  Gender                    3147 non-null   object\n",
      " 11  HourlyRate                3147 non-null   int64 \n",
      " 12  JobInvolvement            3147 non-null   int64 \n",
      " 13  JobLevel                  3147 non-null   int64 \n",
      " 14  JobRole                   3147 non-null   object\n",
      " 15  JobSatisfaction           3147 non-null   int64 \n",
      " 16  MaritalStatus             3147 non-null   object\n",
      " 17  MonthlyIncome             3147 non-null   int64 \n",
      " 18  MonthlyRate               3147 non-null   int64 \n",
      " 19  NumCompaniesWorked        3147 non-null   int64 \n",
      " 20  Over18                    3147 non-null   object\n",
      " 21  OverTime                  3147 non-null   object\n",
      " 22  PercentSalaryHike         3147 non-null   int64 \n",
      " 23  PerformanceRating         3147 non-null   int64 \n",
      " 24  RelationshipSatisfaction  3147 non-null   int64 \n",
      " 25  StandardHours             3147 non-null   int64 \n",
      " 26  StockOptionLevel          3147 non-null   int64 \n",
      " 27  TotalWorkingYears         3147 non-null   int64 \n",
      " 28  TrainingTimesLastYear     3147 non-null   int64 \n",
      " 29  WorkLifeBalance           3147 non-null   int64 \n",
      " 30  YearsAtCompany            3147 non-null   int64 \n",
      " 31  YearsInCurrentRole        3147 non-null   int64 \n",
      " 32  YearsSinceLastPromotion   3147 non-null   int64 \n",
      " 33  YearsWithCurrManager      3147 non-null   int64 \n",
      " 34  Attrition                 3147 non-null   int64 \n",
      " 35  source                    3147 non-null   object\n",
      "dtypes: int64(27), object(9)\n",
      "memory usage: 885.2+ KB\n"
     ]
    }
   ],
   "source": [
    "train.info()"
   ]
  },
  {
   "cell_type": "code",
   "execution_count": 9,
   "id": "97cf14bc",
   "metadata": {
    "execution": {
     "iopub.execute_input": "2023-01-22T11:10:19.070429Z",
     "iopub.status.busy": "2023-01-22T11:10:19.070020Z",
     "iopub.status.idle": "2023-01-22T11:10:19.089562Z",
     "shell.execute_reply": "2023-01-22T11:10:19.088318Z"
    },
    "papermill": {
     "duration": 0.031438,
     "end_time": "2023-01-22T11:10:19.092018",
     "exception": false,
     "start_time": "2023-01-22T11:10:19.060580",
     "status": "completed"
    },
    "tags": []
   },
   "outputs": [
    {
     "data": {
      "text/plain": [
       "StandardHours                  1\n",
       "Over18                         1\n",
       "EmployeeCount                  1\n",
       "source                         2\n",
       "PerformanceRating              2\n",
       "OverTime                       2\n",
       "Attrition                      2\n",
       "Gender                         2\n",
       "MaritalStatus                  3\n",
       "Department                     3\n",
       "BusinessTravel                 3\n",
       "WorkLifeBalance                4\n",
       "StockOptionLevel               4\n",
       "RelationshipSatisfaction       4\n",
       "JobSatisfaction                4\n",
       "EnvironmentSatisfaction        4\n",
       "JobInvolvement                 4\n",
       "Education                      6\n",
       "EducationField                 6\n",
       "JobLevel                       6\n",
       "TrainingTimesLastYear          7\n",
       "JobRole                        9\n",
       "NumCompaniesWorked            10\n",
       "PercentSalaryHike             15\n",
       "YearsSinceLastPromotion       16\n",
       "YearsWithCurrManager          18\n",
       "YearsInCurrentRole            19\n",
       "DistanceFromHome              29\n",
       "YearsAtCompany                38\n",
       "TotalWorkingYears             41\n",
       "Age                           43\n",
       "HourlyRate                    71\n",
       "DailyRate                    901\n",
       "MonthlyIncome               1383\n",
       "MonthlyRate                 1447\n",
       "id                          1952\n",
       "dtype: int64"
      ]
     },
     "execution_count": 9,
     "metadata": {},
     "output_type": "execute_result"
    }
   ],
   "source": [
    "train.nunique().sort_values()"
   ]
  },
  {
   "cell_type": "markdown",
   "id": "48b66d74",
   "metadata": {
    "papermill": {
     "duration": 0.007958,
     "end_time": "2023-01-22T11:10:19.108139",
     "exception": false,
     "start_time": "2023-01-22T11:10:19.100181",
     "status": "completed"
    },
    "tags": []
   },
   "source": [
    "# Preprocessing"
   ]
  },
  {
   "cell_type": "code",
   "execution_count": 10,
   "id": "9a855ea5",
   "metadata": {
    "execution": {
     "iopub.execute_input": "2023-01-22T11:10:19.127283Z",
     "iopub.status.busy": "2023-01-22T11:10:19.125780Z",
     "iopub.status.idle": "2023-01-22T11:10:19.138212Z",
     "shell.execute_reply": "2023-01-22T11:10:19.137004Z"
    },
    "papermill": {
     "duration": 0.024581,
     "end_time": "2023-01-22T11:10:19.140924",
     "exception": false,
     "start_time": "2023-01-22T11:10:19.116343",
     "status": "completed"
    },
    "tags": []
   },
   "outputs": [],
   "source": [
    "feats_to_drop = [col for col in train.columns if train[col].nunique()==1]"
   ]
  },
  {
   "cell_type": "code",
   "execution_count": 11,
   "id": "7deb8394",
   "metadata": {
    "execution": {
     "iopub.execute_input": "2023-01-22T11:10:19.159964Z",
     "iopub.status.busy": "2023-01-22T11:10:19.158840Z",
     "iopub.status.idle": "2023-01-22T11:10:19.170082Z",
     "shell.execute_reply": "2023-01-22T11:10:19.169119Z"
    },
    "papermill": {
     "duration": 0.02346,
     "end_time": "2023-01-22T11:10:19.172700",
     "exception": false,
     "start_time": "2023-01-22T11:10:19.149240",
     "status": "completed"
    },
    "tags": []
   },
   "outputs": [],
   "source": [
    "train.drop(columns=feats_to_drop, inplace=True)\n",
    "test.drop(columns=feats_to_drop, inplace=True)"
   ]
  },
  {
   "cell_type": "code",
   "execution_count": 12,
   "id": "c50599dc",
   "metadata": {
    "execution": {
     "iopub.execute_input": "2023-01-22T11:10:19.191342Z",
     "iopub.status.busy": "2023-01-22T11:10:19.190540Z",
     "iopub.status.idle": "2023-01-22T11:10:19.199897Z",
     "shell.execute_reply": "2023-01-22T11:10:19.198663Z"
    },
    "papermill": {
     "duration": 0.021663,
     "end_time": "2023-01-22T11:10:19.202636",
     "exception": false,
     "start_time": "2023-01-22T11:10:19.180973",
     "status": "completed"
    },
    "tags": []
   },
   "outputs": [
    {
     "data": {
      "text/plain": [
       "['BusinessTravel',\n",
       " 'Department',\n",
       " 'EducationField',\n",
       " 'Gender',\n",
       " 'JobRole',\n",
       " 'MaritalStatus',\n",
       " 'OverTime',\n",
       " 'source']"
      ]
     },
     "execution_count": 12,
     "metadata": {},
     "output_type": "execute_result"
    }
   ],
   "source": [
    "object_feat=list((train.dtypes[train.dtypes == 'object']).index)\n",
    "object_feat"
   ]
  },
  {
   "cell_type": "code",
   "execution_count": 13,
   "id": "6f54769c",
   "metadata": {
    "execution": {
     "iopub.execute_input": "2023-01-22T11:10:19.221310Z",
     "iopub.status.busy": "2023-01-22T11:10:19.220855Z",
     "iopub.status.idle": "2023-01-22T11:10:19.242409Z",
     "shell.execute_reply": "2023-01-22T11:10:19.241139Z"
    },
    "papermill": {
     "duration": 0.033993,
     "end_time": "2023-01-22T11:10:19.245185",
     "exception": false,
     "start_time": "2023-01-22T11:10:19.211192",
     "status": "completed"
    },
    "tags": []
   },
   "outputs": [],
   "source": [
    "le = LabelEncoder()\n",
    "for i in object_feat:\n",
    "    train[i] = le.fit_transform(train[i])\n",
    "    test[i] = le.transform(test[i])"
   ]
  },
  {
   "cell_type": "markdown",
   "id": "f8009bdc",
   "metadata": {
    "papermill": {
     "duration": 0.007921,
     "end_time": "2023-01-22T11:10:19.261871",
     "exception": false,
     "start_time": "2023-01-22T11:10:19.253950",
     "status": "completed"
    },
    "tags": []
   },
   "source": [
    "# Modelling"
   ]
  },
  {
   "cell_type": "code",
   "execution_count": 14,
   "id": "441cf200",
   "metadata": {
    "execution": {
     "iopub.execute_input": "2023-01-22T11:10:19.281663Z",
     "iopub.status.busy": "2023-01-22T11:10:19.281187Z",
     "iopub.status.idle": "2023-01-22T11:10:19.289764Z",
     "shell.execute_reply": "2023-01-22T11:10:19.288502Z"
    },
    "papermill": {
     "duration": 0.020903,
     "end_time": "2023-01-22T11:10:19.292119",
     "exception": false,
     "start_time": "2023-01-22T11:10:19.271216",
     "status": "completed"
    },
    "tags": []
   },
   "outputs": [],
   "source": [
    "# Source - https://www.analyseup.com/learn-python-for-data-science/python-random-forest-feature-importance-plot.html\n",
    "\n",
    "def plot_feature_importance(importance,names,model_type):\n",
    "    \n",
    "    #Create arrays from feature importance and feature names\n",
    "    feature_importance = np.array(importance)\n",
    "    feature_names = np.array(names)\n",
    "    \n",
    "    #Create a DataFrame using a Dictionary\n",
    "    data={'feature_names':feature_names,'feature_importance':feature_importance}\n",
    "    fi_df = pd.DataFrame(data)\n",
    "    \n",
    "    #Sort the DataFrame in order decreasing feature importance\n",
    "    fi_df.sort_values(by=['feature_importance'], ascending=False,inplace=True)\n",
    "    \n",
    "    #Define size of bar plot\n",
    "    plt.figure(figsize=(10,8))\n",
    "    #Plot Searborn bar chart\n",
    "    sns.barplot(x=fi_df['feature_importance'], y=fi_df['feature_names'])\n",
    "    #Add chart labels\n",
    "    plt.title(model_type + 'FEATURE IMPORTANCE')\n",
    "    plt.xlabel('FEATURE IMPORTANCE')\n",
    "    plt.ylabel('FEATURE NAMES')"
   ]
  },
  {
   "cell_type": "code",
   "execution_count": 15,
   "id": "dad91636",
   "metadata": {
    "execution": {
     "iopub.execute_input": "2023-01-22T11:10:19.310919Z",
     "iopub.status.busy": "2023-01-22T11:10:19.310393Z",
     "iopub.status.idle": "2023-01-22T11:10:19.319006Z",
     "shell.execute_reply": "2023-01-22T11:10:19.317906Z"
    },
    "papermill": {
     "duration": 0.020892,
     "end_time": "2023-01-22T11:10:19.321347",
     "exception": false,
     "start_time": "2023-01-22T11:10:19.300455",
     "status": "completed"
    },
    "tags": []
   },
   "outputs": [],
   "source": [
    "X = train.drop('Attrition', axis=1)\n",
    "y = train['Attrition']\n",
    "SPLITS = 10\n",
    "RANDOM = 50\n",
    "ESTIMATORS = 1000\n",
    "clfs = []\n",
    "scores = []\n",
    "y_pred = []"
   ]
  },
  {
   "cell_type": "code",
   "execution_count": 16,
   "id": "cedc11db",
   "metadata": {
    "execution": {
     "iopub.execute_input": "2023-01-22T11:10:19.340736Z",
     "iopub.status.busy": "2023-01-22T11:10:19.340000Z",
     "iopub.status.idle": "2023-01-22T11:10:30.680946Z",
     "shell.execute_reply": "2023-01-22T11:10:30.679030Z"
    },
    "papermill": {
     "duration": 11.354247,
     "end_time": "2023-01-22T11:10:30.683902",
     "exception": false,
     "start_time": "2023-01-22T11:10:19.329655",
     "status": "completed"
    },
    "tags": []
   },
   "outputs": [
    {
     "name": "stdout",
     "output_type": "stream",
     "text": [
      "mean score: 0.8553004298541926\n"
     ]
    }
   ],
   "source": [
    "skf = StratifiedKFold(n_splits = SPLITS, shuffle = True, random_state = RANDOM)\n",
    "\n",
    "for train_idx, test_idx in skf.split(X, y):\n",
    "    X_train, X_test = X.loc[train_idx], X.loc[test_idx]    \n",
    "    y_train, y_test = y[train_idx], y[test_idx]    \n",
    "    clf = CatBoostClassifier(n_estimators = ESTIMATORS)\n",
    "    clf.fit(X_train.values, y_train, eval_set = [(X_test, y_test)], early_stopping_rounds=100, verbose=False)\n",
    "    preds = clf.predict_proba(X_test.values)    \n",
    "    clfs.append(clf)\n",
    "    scores.append(roc_auc_score(y_test, preds[:, 1]))\n",
    "print(f'mean score: {np.mean(scores)}')"
   ]
  },
  {
   "cell_type": "code",
   "execution_count": 17,
   "id": "9c339b92",
   "metadata": {
    "execution": {
     "iopub.execute_input": "2023-01-22T11:10:30.703206Z",
     "iopub.status.busy": "2023-01-22T11:10:30.702734Z",
     "iopub.status.idle": "2023-01-22T11:10:31.291836Z",
     "shell.execute_reply": "2023-01-22T11:10:31.290676Z"
    },
    "papermill": {
     "duration": 0.602232,
     "end_time": "2023-01-22T11:10:31.294882",
     "exception": false,
     "start_time": "2023-01-22T11:10:30.692650",
     "status": "completed"
    },
    "tags": []
   },
   "outputs": [
    {
     "data": {
      "image/png": "[encoded data removed]",
      "text/plain": [
       "<Figure size 720x576 with 1 Axes>"
      ]
     },
     "metadata": {
      "needs_background": "light"
     },
     "output_type": "display_data"
    }
   ],
   "source": [
    "plot_feature_importance(clf.feature_importances_,X_train.columns,'CATBOOST')"
   ]
  },
  {
   "cell_type": "code",
   "execution_count": 18,
   "id": "035e4aba",
   "metadata": {
    "execution": {
     "iopub.execute_input": "2023-01-22T11:10:31.315297Z",
     "iopub.status.busy": "2023-01-22T11:10:31.314890Z",
     "iopub.status.idle": "2023-01-22T11:10:42.214989Z",
     "shell.execute_reply": "2023-01-22T11:10:42.213935Z"
    },
    "papermill": {
     "duration": 10.91324,
     "end_time": "2023-01-22T11:10:42.217457",
     "exception": false,
     "start_time": "2023-01-22T11:10:31.304217",
     "status": "completed"
    },
    "tags": []
   },
   "outputs": [
    {
     "name": "stdout",
     "output_type": "stream",
     "text": [
      "mean score: 0.8426614196110249\n"
     ]
    }
   ],
   "source": [
    "skf = StratifiedKFold(n_splits = SPLITS, shuffle = True, random_state = RANDOM)\n",
    "\n",
    "for train_idx, test_idx in skf.split(X, y):\n",
    "    X_train, X_test = X.loc[train_idx], X.loc[test_idx]    \n",
    "    y_train, y_test = y[train_idx], y[test_idx]    \n",
    "    clf1 = XGBClassifier(n_estimators = ESTIMATORS)\n",
    "    clf1.fit(X_train, y_train, eval_set = [(X_test, y_test)], early_stopping_rounds=100, verbose=False)\n",
    "    preds = clf1.predict_proba(X_test)    \n",
    "    clfs.append(clf1)\n",
    "    scores.append(roc_auc_score(y_test, preds[:, 1]))\n",
    "print(f'mean score: {np.mean(scores)}')"
   ]
  },
  {
   "cell_type": "code",
   "execution_count": 19,
   "id": "de6b24b2",
   "metadata": {
    "execution": {
     "iopub.execute_input": "2023-01-22T11:10:42.239321Z",
     "iopub.status.busy": "2023-01-22T11:10:42.238896Z",
     "iopub.status.idle": "2023-01-22T11:10:42.954316Z",
     "shell.execute_reply": "2023-01-22T11:10:42.953134Z"
    },
    "papermill": {
     "duration": 0.728987,
     "end_time": "2023-01-22T11:10:42.957288",
     "exception": false,
     "start_time": "2023-01-22T11:10:42.228301",
     "status": "completed"
    },
    "tags": []
   },
   "outputs": [
    {
     "data": {
      "image/png": "[encoded data removed]",
      "text/plain": [
       "<Figure size 720x576 with 1 Axes>"
      ]
     },
     "metadata": {
      "needs_background": "light"
     },
     "output_type": "display_data"
    }
   ],
   "source": [
    "plot_feature_importance(clf1.feature_importances_,X_train.columns,'XG BOOST')"
   ]
  },
  {
   "cell_type": "code",
   "execution_count": 20,
   "id": "aae790c1",
   "metadata": {
    "execution": {
     "iopub.execute_input": "2023-01-22T11:10:42.979335Z",
     "iopub.status.busy": "2023-01-22T11:10:42.978894Z",
     "iopub.status.idle": "2023-01-22T11:10:43.075883Z",
     "shell.execute_reply": "2023-01-22T11:10:43.074886Z"
    },
    "papermill": {
     "duration": 0.111113,
     "end_time": "2023-01-22T11:10:43.078632",
     "exception": false,
     "start_time": "2023-01-22T11:10:42.967519",
     "status": "completed"
    },
    "tags": []
   },
   "outputs": [],
   "source": [
    "for c in clfs:\n",
    "    preds = c.predict_proba(test)\n",
    "    y_pred.append(preds[:, 1])"
   ]
  },
  {
   "cell_type": "code",
   "execution_count": 21,
   "id": "b88640f8",
   "metadata": {
    "execution": {
     "iopub.execute_input": "2023-01-22T11:10:43.103210Z",
     "iopub.status.busy": "2023-01-22T11:10:43.102076Z",
     "iopub.status.idle": "2023-01-22T11:10:43.108336Z",
     "shell.execute_reply": "2023-01-22T11:10:43.107021Z"
    },
    "papermill": {
     "duration": 0.020352,
     "end_time": "2023-01-22T11:10:43.110906",
     "exception": false,
     "start_time": "2023-01-22T11:10:43.090554",
     "status": "completed"
    },
    "tags": []
   },
   "outputs": [],
   "source": [
    "final_pred=np.stack(y_pred).mean(0)"
   ]
  },
  {
   "cell_type": "code",
   "execution_count": 22,
   "id": "7651fef3",
   "metadata": {
    "execution": {
     "iopub.execute_input": "2023-01-22T11:10:43.133210Z",
     "iopub.status.busy": "2023-01-22T11:10:43.132722Z",
     "iopub.status.idle": "2023-01-22T11:10:43.140961Z",
     "shell.execute_reply": "2023-01-22T11:10:43.139708Z"
    },
    "papermill": {
     "duration": 0.022581,
     "end_time": "2023-01-22T11:10:43.143659",
     "exception": false,
     "start_time": "2023-01-22T11:10:43.121078",
     "status": "completed"
    },
    "tags": []
   },
   "outputs": [
    {
     "data": {
      "text/plain": [
       "array([0.18353415, 0.09336601, 0.0458654 , ..., 0.04564848, 0.04017495,\n",
       "       0.02388786])"
      ]
     },
     "execution_count": 22,
     "metadata": {},
     "output_type": "execute_result"
    }
   ],
   "source": [
    "final_pred"
   ]
  },
  {
   "cell_type": "code",
   "execution_count": 23,
   "id": "d070431e",
   "metadata": {
    "execution": {
     "iopub.execute_input": "2023-01-22T11:10:43.165684Z",
     "iopub.status.busy": "2023-01-22T11:10:43.165231Z",
     "iopub.status.idle": "2023-01-22T11:10:43.177953Z",
     "shell.execute_reply": "2023-01-22T11:10:43.176758Z"
    },
    "papermill": {
     "duration": 0.026615,
     "end_time": "2023-01-22T11:10:43.180392",
     "exception": false,
     "start_time": "2023-01-22T11:10:43.153777",
     "status": "completed"
    },
    "tags": []
   },
   "outputs": [
    {
     "data": {
      "text/html": [
       "<div>\n",
       "<style scoped>\n",
       "    .dataframe tbody tr th:only-of-type {\n",
       "        vertical-align: middle;\n",
       "    }\n",
       "\n",
       "    .dataframe tbody tr th {\n",
       "        vertical-align: top;\n",
       "    }\n",
       "\n",
       "    .dataframe thead th {\n",
       "        text-align: right;\n",
       "    }\n",
       "</style>\n",
       "<table border=\"1\" class=\"dataframe\">\n",
       "  <thead>\n",
       "    <tr style=\"text-align: right;\">\n",
       "      <th></th>\n",
       "      <th>id</th>\n",
       "      <th>Attrition</th>\n",
       "    </tr>\n",
       "  </thead>\n",
       "  <tbody>\n",
       "    <tr>\n",
       "      <th>0</th>\n",
       "      <td>1677</td>\n",
       "      <td>0.183534</td>\n",
       "    </tr>\n",
       "    <tr>\n",
       "      <th>1</th>\n",
       "      <td>1678</td>\n",
       "      <td>0.093366</td>\n",
       "    </tr>\n",
       "    <tr>\n",
       "      <th>2</th>\n",
       "      <td>1679</td>\n",
       "      <td>0.045865</td>\n",
       "    </tr>\n",
       "    <tr>\n",
       "      <th>3</th>\n",
       "      <td>1680</td>\n",
       "      <td>0.057433</td>\n",
       "    </tr>\n",
       "    <tr>\n",
       "      <th>4</th>\n",
       "      <td>1681</td>\n",
       "      <td>0.426586</td>\n",
       "    </tr>\n",
       "  </tbody>\n",
       "</table>\n",
       "</div>"
      ],
      "text/plain": [
       "     id  Attrition\n",
       "0  1677   0.183534\n",
       "1  1678   0.093366\n",
       "2  1679   0.045865\n",
       "3  1680   0.057433\n",
       "4  1681   0.426586"
      ]
     },
     "execution_count": 23,
     "metadata": {},
     "output_type": "execute_result"
    }
   ],
   "source": [
    "sub[\"Attrition\"]=final_pred\n",
    "sub.head()"
   ]
  },
  {
   "cell_type": "code",
   "execution_count": 24,
   "id": "e955c64c",
   "metadata": {
    "execution": {
     "iopub.execute_input": "2023-01-22T11:10:43.204011Z",
     "iopub.status.busy": "2023-01-22T11:10:43.203542Z",
     "iopub.status.idle": "2023-01-22T11:10:43.214967Z",
     "shell.execute_reply": "2023-01-22T11:10:43.213826Z"
    },
    "papermill": {
     "duration": 0.026499,
     "end_time": "2023-01-22T11:10:43.217824",
     "exception": false,
     "start_time": "2023-01-22T11:10:43.191325",
     "status": "completed"
    },
    "tags": []
   },
   "outputs": [],
   "source": [
    "sub.to_csv('submission.csv',index=False)"
   ]
  }
 ],
 "metadata": {
  "kernelspec": {
   "display_name": "Python 3",
   "language": "python",
   "name": "python3"
  },
  "language_info": {
   "codemirror_mode": {
    "name": "ipython",
    "version": 3
   },
   "file_extension": ".py",
   "mimetype": "text/x-python",
   "name": "python",
   "nbconvert_exporter": "python",
   "pygments_lexer": "ipython3",
   "version": "3.7.12"
  },
  "papermill": {
   "default_parameters": {},
   "duration": 38.361456,
   "end_time": "2023-01-22T11:10:44.453324",
   "environment_variables": {},
   "exception": null,
   "input_path": "__notebook__.ipynb",
   "output_path": "__notebook__.ipynb",
   "parameters": {},
   "start_time": "2023-01-22T11:10:06.091868",
   "version": "2.3.4"
  }
 },
 "nbformat": 4,
 "nbformat_minor": 5
}
